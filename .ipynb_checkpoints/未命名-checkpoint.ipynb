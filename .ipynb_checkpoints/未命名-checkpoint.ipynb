{
 "cells": [
  {
   "cell_type": "code",
   "execution_count": 8,
   "metadata": {},
   "outputs": [
    {
     "ename": "SyntaxError",
     "evalue": "invalid syntax (<ipython-input-8-a8194e1d23c0>, line 24)",
     "output_type": "error",
     "traceback": [
      "\u001b[0;36m  File \u001b[0;32m\"<ipython-input-8-a8194e1d23c0>\"\u001b[0;36m, line \u001b[0;32m24\u001b[0m\n\u001b[0;31m    if response.status == 200\u001b[0m\n\u001b[0m                             ^\u001b[0m\n\u001b[0;31mSyntaxError\u001b[0m\u001b[0;31m:\u001b[0m invalid syntax\n"
     ]
    }
   ],
   "source": [
    "import urllib\n",
    "help(urllib)\n",
    "\n",
    "import urllib.request\n",
    "import urllib.parse\n",
    "\n",
    "url = \"http://www.baidu.com/s?\"\n",
    "r = urllib.request.urlopen(url)\n",
    "\n",
    "headers = {'User-Agent': 'Mozilla/5.0',\n",
    "          'Accept':'text/html',}\n",
    "request = urllib.request.Request(url,headers= headers)\n",
    "\n",
    "\n",
    "querystr = {'wd': '北京'}\n",
    "querystr_encode = urllib.parse.urlencode(querystr)\n",
    "\n",
    "print(querystr_encode)\n",
    "\n",
    "theurl = url + querystr_encode\n",
    "\n",
    "print(theurl)\n",
    "with urllib.request.urlopen(theurl) as response:\n",
    "    if response.status == 200:\n",
    "        print(r.read()[500:].decode('utf-8'))\n",
    "# print(theurl)\n"
   ]
  },
  {
   "cell_type": "code",
   "execution_count": null,
   "metadata": {},
   "outputs": [],
   "source": []
  },
  {
   "cell_type": "code",
   "execution_count": null,
   "metadata": {},
   "outputs": [],
   "source": []
  }
 ],
 "metadata": {
  "kernelspec": {
   "display_name": "Python 3",
   "language": "python",
   "name": "python3"
  },
  "language_info": {
   "codemirror_mode": {
    "name": "ipython",
    "version": 3
   },
   "file_extension": ".py",
   "mimetype": "text/x-python",
   "name": "python",
   "nbconvert_exporter": "python",
   "pygments_lexer": "ipython3",
   "version": "3.7.4"
  }
 },
 "nbformat": 4,
 "nbformat_minor": 2
}
